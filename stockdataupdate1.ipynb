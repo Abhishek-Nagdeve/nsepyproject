{
 "cells": [
  {
   "cell_type": "code",
   "execution_count": 1,
   "id": "6f25cdf5",
   "metadata": {},
   "outputs": [],
   "source": [
    "#Importing Config and other Libraries\n",
    "from pyspark.sql import SparkSession\n",
    "import config\n",
    "import numpy\n",
    "from nsepy import get_history\n",
    "from datetime import date,timedelta\n",
    "import datetime\n",
    "import os\n",
    "import shutil\n",
    "from pyspark.sql.functions import col\n",
    "from pyspark.sql.types import IntegerType,DateType,FloatType,StructType,StructField,StringType"
   ]
  },
  {
   "cell_type": "code",
   "execution_count": 2,
   "id": "9d67636d",
   "metadata": {},
   "outputs": [
    {
     "name": "stdout",
     "output_type": "stream",
     "text": [
      "23/02/27 16:18:18 WARN Utils: Your hostname, abhishek-HP-Notebook resolves to a loopback address: 127.0.1.1; using 192.168.10.25 instead (on interface wlo1)\n",
      "23/02/27 16:18:18 WARN Utils: Set SPARK_LOCAL_IP if you need to bind to another address\n"
     ]
    },
    {
     "name": "stderr",
     "output_type": "stream",
     "text": [
      "Setting default log level to \"WARN\".\n",
      "To adjust logging level use sc.setLogLevel(newLevel). For SparkR, use setLogLevel(newLevel).\n"
     ]
    },
    {
     "name": "stdout",
     "output_type": "stream",
     "text": [
      "23/02/27 16:18:25 WARN NativeCodeLoader: Unable to load native-hadoop library for your platform... using builtin-java classes where applicable\n"
     ]
    },
    {
     "data": {
      "text/html": [
       "\n",
       "            <div>\n",
       "                <p><b>SparkSession - hive</b></p>\n",
       "                \n",
       "        <div>\n",
       "            <p><b>SparkContext</b></p>\n",
       "\n",
       "            <p><a href=\"http://192.168.10.25:4040\">Spark UI</a></p>\n",
       "\n",
       "            <dl>\n",
       "              <dt>Version</dt>\n",
       "                <dd><code>v3.3.1</code></dd>\n",
       "              <dt>Master</dt>\n",
       "                <dd><code>local</code></dd>\n",
       "              <dt>AppName</dt>\n",
       "                <dd><code>stockupdate</code></dd>\n",
       "            </dl>\n",
       "        </div>\n",
       "        \n",
       "            </div>\n",
       "        "
      ],
      "text/plain": [
       "<pyspark.sql.session.SparkSession at 0x7f421e5f99f0>"
      ]
     },
     "execution_count": 2,
     "metadata": {},
     "output_type": "execute_result"
    }
   ],
   "source": [
    "spark = SparkSession.builder.master('local').appName('stockupdate').enableHiveSupport().getOrCreate()\n",
    "spark"
   ]
  },
  {
   "cell_type": "code",
   "execution_count": 3,
   "id": "98d31547",
   "metadata": {},
   "outputs": [
    {
     "name": "stderr",
     "output_type": "stream",
     "text": [
      "                                                                                \r"
     ]
    },
    {
     "name": "stdout",
     "output_type": "stream",
     "text": [
      "+---------+\n",
      "|   Stocks|\n",
      "+---------+\n",
      "|      ITC|\n",
      "|      TCS|\n",
      "|TATASTEEL|\n",
      "|    TECHM|\n",
      "+---------+\n",
      "\n"
     ]
    }
   ],
   "source": [
    "df = spark.read.option(key='header',value=True).csv(config.stock_list_path)\n",
    "df.show()"
   ]
  },
  {
   "cell_type": "code",
   "execution_count": 4,
   "id": "8a012a87",
   "metadata": {},
   "outputs": [
    {
     "data": {
      "text/plain": [
       "'nseproject'"
      ]
     },
     "execution_count": 4,
     "metadata": {},
     "output_type": "execute_result"
    }
   ],
   "source": [
    "pdf = df.toPandas()\n",
    "config.database"
   ]
  },
  {
   "cell_type": "code",
   "execution_count": 5,
   "id": "21ac0ba2",
   "metadata": {},
   "outputs": [],
   "source": [
    "schema = StructType([StructField(name='Date',dataType=DateType()),StructField(name='Symbol',dataType=StringType()),StructField(name='Prev Close',dataType=FloatType()),StructField(name='Open',dataType=FloatType()),StructField(name='High',dataType=FloatType()),StructField(name='Low',dataType=FloatType()),StructField(name='Close',dataType=FloatType())])"
   ]
  },
  {
   "cell_type": "code",
   "execution_count": 17,
   "id": "c2cf4801",
   "metadata": {},
   "outputs": [],
   "source": [
    "#Create table\n",
    "for a in pdf.Stocks:\n",
    "    query='create table if not exists ' + config.database + '.' + a + ' (date Date, stock String, pre_close Float, open Float, high Float, low Float, close Float) ROW FORMAT DELIMITED FIELDS TERMINATED BY \",\";'\n",
    "    spark.sql(query)\n"
   ]
  },
  {
   "cell_type": "code",
   "execution_count": 18,
   "id": "62d4bebe",
   "metadata": {},
   "outputs": [],
   "source": [
    "enddate = datetime.datetime.today()\n",
    "startdate = enddate-datetime.timedelta(days=180)\n",
    "for a in pdf.Stocks:\n",
    "    temp_pd = get_history(symbol=a,start=startdate,end=enddate)\n",
    "    temp_pd = temp_pd.drop(['Series','VWAP','Volume','Turnover','Trades','Deliverable Volume','%Deliverble'],axis=1)\n",
    "    temp_pd.to_csv('/home/abhishek/test/nseproject/data_file.csv')\n",
    "    temp_pd.head(5)\n",
    "    #df_stock = spark.read.option(key='header',value=True).csv('/home/abhishek/test/nseproject/data_file.csv')\n",
    "    #df_stock.show()\n",
    "    #df_stock.coalesce(1).write.csv('hdfs://localhost:50000/nseproject/data_file.csv',mode='overwrite')\n",
    "    truncate_query = 'TRUNCATE TABLE ' + config.database + '.' + a + ';'\n",
    "    spark.sql(truncate_query)\n",
    "    load_query='LOAD DATA LOCAL INPATH \"/home/abhishek/test/nseproject/data_file.csv\" INTO TABLE ' + config.database + '.' + a + ';'\n",
    "    spark.sql(load_query)\n"
   ]
  },
  {
   "cell_type": "code",
   "execution_count": null,
   "id": "1f27cb95",
   "metadata": {},
   "outputs": [],
   "source": []
  },
  {
   "cell_type": "code",
   "execution_count": null,
   "id": "b7c31936",
   "metadata": {},
   "outputs": [],
   "source": []
  },
  {
   "cell_type": "code",
   "execution_count": null,
   "id": "fbb495a4",
   "metadata": {},
   "outputs": [],
   "source": []
  },
  {
   "cell_type": "code",
   "execution_count": null,
   "id": "7a4ef760",
   "metadata": {},
   "outputs": [],
   "source": []
  }
 ],
 "metadata": {
  "kernelspec": {
   "display_name": "Python 3 (ipykernel)",
   "language": "python",
   "name": "python3"
  },
  "language_info": {
   "codemirror_mode": {
    "name": "ipython",
    "version": 3
   },
   "file_extension": ".py",
   "mimetype": "text/x-python",
   "name": "python",
   "nbconvert_exporter": "python",
   "pygments_lexer": "ipython3",
   "version": "3.10.6"
  }
 },
 "nbformat": 4,
 "nbformat_minor": 5
}
